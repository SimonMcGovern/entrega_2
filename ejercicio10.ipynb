{
 "cells": [
  {
   "cell_type": "markdown",
   "metadata": {},
   "source": [
    "**EJERCICIO 10**\n",
    "\n",
    "\n",
    "Un club de hockey posee las estadísticas de todxs sus jugadorxs de la última\n",
    "temporada jugada del torneo de hockey mixto. Poseen una lista con los nombres, otra\n",
    "con los goles a favor, otra con los goles evitados y la última con las asistencias\n",
    "realizadas. "
   ]
  },
  {
   "cell_type": "code",
   "execution_count": null,
   "metadata": {},
   "outputs": [],
   "source": [
    "names = \"\"\" Agustin, Yanina, Andrés, Ariadna, Bautista, CAROLINA,\n",
    "CESAR, David, Diego, Dolores, DYLAN, ELIANA, Emanuel, Fabián, Noelia,\n",
    "Francsica', FEDERICO, Fernanda, GONZALO, Nancy \"\"\"\n",
    "goals = [0, 10, 4, 0, 5, 14, 0, 0, 7, 2, 1, 1, 1, 5, 6, 1, 1, 2, 0,\n",
    "11]\n",
    "goals_avoided = [0, 2, 0, 0, 5, 2, 0, 0, 1, 2, 0, 5, 5, 0, 1, 0, 2,\n",
    "3, 0, 0]\n",
    "assists = [0, 5, 1, 0, 5, 2, 0, 0, 1, 2, 1, 5, 5, 0, 1, 0, 2, 3, 1,\n",
    "0]"
   ]
  },
  {
   "cell_type": "markdown",
   "metadata": {},
   "source": [
    "Punto 1. Generar una estructura todas las estadísticas asociadas a cada jugador o\n",
    "jugadora."
   ]
  },
  {
   "cell_type": "code",
   "execution_count": null,
   "metadata": {},
   "outputs": [],
   "source": []
  },
  {
   "cell_type": "markdown",
   "metadata": {},
   "source": [
    "Punto 2. Conocer el nombre y la cantidad de goles del goleador o goleadora."
   ]
  },
  {
   "cell_type": "code",
   "execution_count": null,
   "metadata": {},
   "outputs": [],
   "source": []
  },
  {
   "cell_type": "markdown",
   "metadata": {},
   "source": [
    "Punto 3. Conocer el nombre del jugador o jugadora más influyente, esto se consigue\n",
    "sumando goles a favor, goles evitados y cantidad de asistencias. La particularidad\n",
    "es que los goles a favor, evitados y las asistencias NO valen lo mismo (es un\n",
    "promedio ponderado): Goles a favor -> 1.5, Goles evitados -> 1.25, Asistencias -> 1\n"
   ]
  },
  {
   "cell_type": "code",
   "execution_count": null,
   "metadata": {},
   "outputs": [],
   "source": []
  },
  {
   "cell_type": "markdown",
   "metadata": {},
   "source": [
    "Punto 4. Conocer el promedio de goles por partido del equipo en general. Dato: Se jugaron\n",
    "25 partidos en la temporada."
   ]
  },
  {
   "cell_type": "code",
   "execution_count": null,
   "metadata": {},
   "outputs": [],
   "source": []
  },
  {
   "cell_type": "markdown",
   "metadata": {},
   "source": [
    "Punto 5. Conocer el promedio de goles por partido del goleador o goleadora. Dato: Se\n",
    "jugaron 25 partidos en la temporada."
   ]
  },
  {
   "cell_type": "markdown",
   "metadata": {},
   "source": []
  }
 ],
 "metadata": {
  "language_info": {
   "name": "python"
  }
 },
 "nbformat": 4,
 "nbformat_minor": 2
}
